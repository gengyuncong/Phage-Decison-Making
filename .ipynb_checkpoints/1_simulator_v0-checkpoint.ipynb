{
 "cells": [
  {
   "cell_type": "code",
   "execution_count": 64,
   "metadata": {},
   "outputs": [
    {
     "data": {
      "application/javascript": [
       "IPython.OutputArea.prototype._should_scroll = function(lines) {\n",
       "    return false;\n",
       "}\n"
      ],
      "text/plain": [
       "<IPython.core.display.Javascript object>"
      ]
     },
     "metadata": {},
     "output_type": "display_data"
    }
   ],
   "source": [
    "%%javascript\n",
    "IPython.OutputArea.prototype._should_scroll = function(lines) {\n",
    "    return false;\n",
    "}"
   ]
  },
  {
   "cell_type": "code",
   "execution_count": 65,
   "metadata": {},
   "outputs": [],
   "source": [
    "%matplotlib inline\n",
    "#from __future__ import division\n",
    "import matplotlib\n",
    "import matplotlib.colors as mcolors\n",
    "from mpl_toolkits.axes_grid1 import make_axes_locatable\n",
    "from pylab import *\n",
    "import math\n",
    "import numpy as np\n",
    "#import scipy.integrate\n",
    "from scipy.constants import N_A\n",
    "from scipy.optimize import curve_fit\n",
    "from IPython.display import HTML, display\n",
    "\n",
    "#import jovian\n",
    "#import plotly.express as px\n",
    "#import plotly.express as px\n",
    "#import plotly.graph_objects as go\n",
    "pass"
   ]
  },
  {
   "cell_type": "code",
   "execution_count": 66,
   "metadata": {},
   "outputs": [],
   "source": [
    "# Define some plotting styles that we will use.\n",
    "fontSize=15\n",
    "matplotlib.rcParams.update({\"axes.formatter.limits\": (-4,4),'font.family':'Avenir','font.size': fontSize, \"axes.titlesize\": fontSize, \"xtick.labelsize\": fontSize, \"ytick.labelsize\": fontSize,})\n",
    "plotStyles={\"markersize\":12,\"markeredgewidth\":2.0,\"linewidth\":2.0}\n",
    "stepStyles={\"markersize\":15,\"markeredgewidth\":3.0,\"linewidth\":4.0,\"where\":\"post\"}\n",
    "scatterStyles={\"linewidth\":1.0}"
   ]
  },
  {
   "cell_type": "markdown",
   "metadata": {},
   "source": [
    "# 1 simulator"
   ]
  },
  {
   "cell_type": "markdown",
   "metadata": {},
   "source": [
    "$p$: probability of lysogeny\n",
    "\n",
    "$m$: MOI\n",
    "\n",
    "$l$: cell length\n",
    "\n",
    "$h$: Hill coefficient\n",
    "\n",
    "$K$: $K_A$\n",
    "\n",
    "$N$: sample size"
   ]
  },
  {
   "cell_type": "markdown",
   "metadata": {},
   "source": [
    "## 1.1 simulator"
   ]
  },
  {
   "cell_type": "code",
   "execution_count": 67,
   "metadata": {},
   "outputs": [],
   "source": [
    "def Hill_equation(x,h,K):\n",
    "    return x**h/(K**h+x**h)\n",
    "\n",
    "def Bernoulli(x,p):\n",
    "    if x > p:\n",
    "        return 0\n",
    "    else:\n",
    "        return 1\n",
    "Bernoulli=np.vectorize(Bernoulli)\n",
    "\n",
    "def single_cell_decision_simulator(m,l,h,K,N): #the ZL2010 model\n",
    "    p = (Hill_equation(m/l,h,K))**m\n",
    "    return Bernoulli(np.random.uniform(0,1,N),p)\n"
   ]
  },
  {
   "cell_type": "markdown",
   "metadata": {},
   "source": [
    "## 1.2 global parameters"
   ]
  },
  {
   "cell_type": "code",
   "execution_count": 68,
   "metadata": {},
   "outputs": [],
   "source": [
    "#parameters from the experiments\n",
    "h = 2.07;\n",
    "K = 1.17;\n",
    "\n",
    "np.random.seed(2)"
   ]
  },
  {
   "cell_type": "markdown",
   "metadata": {},
   "source": [
    "## 1.3 utility functions"
   ]
  },
  {
   "cell_type": "code",
   "execution_count": 83,
   "metadata": {},
   "outputs": [],
   "source": [
    "def single_cell_decision_simulator_2(m,l,h,K,N): #the wrong model (used to generate the last panel of Fig. 3A)\n",
    "    p = Hill_equation(m/l,h,K)\n",
    "    return Bernoulli(np.random.uniform(0,1,N),p)\n",
    "\n",
    "def bootstrapping(x,num_resampling):\n",
    "    x_mean = np.zeros(num_resampling);\n",
    "    for i in range(0,num_resampling):\n",
    "        x_mean[i] = np.mean(np.random.choice(x, len(x)))\n",
    "    return (np.mean(x_mean), np.std(x_mean,ddof=1))\n",
    "\n",
    "def bootstrapping_Hill_fit(xx, y, num_resampling): #for homogenerous numpy array\n",
    "    h_list = np.zeros(num_resampling)\n",
    "    K_list = np.zeros(num_resampling)\n",
    "    y_list = np.zeros((6,num_resampling))\n",
    "    for i in range(0,num_resampling):\n",
    "        new_y = np.zeros(6)\n",
    "        for j in range(1,6):\n",
    "            new_n = np.random.choice(y[j,:],len(y[j,:]))\n",
    "            new_y[j] = np.mean(new_n)\n",
    "            y_list[j,i] = new_y[j]\n",
    "        popt, pcov = curve_fit(Hill_equation, xx[1:], new_y[1:],p0=[1,1])\n",
    "        h_list[i] = popt[0]\n",
    "        K_list[i] = popt[1]\n",
    "    y_list_mean = np.mean(y_list,axis=1)\n",
    "    y_list_std = np.std(y_list,axis=1,ddof=1)\n",
    "    return (y_list_mean, y_list_std, np.mean(h_list), np.std(h_list,ddof=1), np.mean(K_list), np.std(K_list,ddof=1))\n",
    "\n",
    "def bootstrapping_Hill_fit_v2(xx, y, num_resampling): #for nonhomogenerous numpy array\n",
    "    h_list = np.zeros(num_resampling)\n",
    "    K_list = np.zeros(num_resampling)\n",
    "    y_list = np.zeros((6,num_resampling))\n",
    "    for i in range(0,num_resampling):\n",
    "        new_y = np.zeros(6)\n",
    "        for j in range(1,6):\n",
    "            old_y = np.array(y[j]);\n",
    "            new_n = np.random.choice(old_y,len(old_y))\n",
    "            new_y[j] = np.mean(new_n)\n",
    "            y_list[j,i] = new_y[j]\n",
    "        popt, pcov = curve_fit(Hill_equation, xx[1:], new_y[1:],p0=[1,1])\n",
    "        h_list[i] = popt[0]\n",
    "        K_list[i] = popt[1]\n",
    "    y_list_mean = np.mean(y_list,axis=1)\n",
    "    y_list_std = np.std(y_list,axis=1,ddof=1)\n",
    "    return (y_list_mean, y_list_std, np.mean(h_list), np.std(h_list,ddof=1), np.mean(K_list), np.std(K_list,ddof=1))\n",
    "\n",
    "def make_colormap(seq):\n",
    "    \"\"\"Return a LinearSegmentedColormap\n",
    "    seq: a sequence of floats and RGB-tuples. The floats should be increasing\n",
    "    and in the interval (0,1).\n",
    "    \"\"\"\n",
    "    seq = [(None,) * 3, 0.0] + list(seq) + [1.0, (None,) * 3]\n",
    "    cdict = {'red': [], 'green': [], 'blue': []}\n",
    "    for i, item in enumerate(seq):\n",
    "        if isinstance(item, float):\n",
    "            r1, g1, b1 = seq[i - 1]\n",
    "            r2, g2, b2 = seq[i + 1]\n",
    "            cdict['red'].append([item, r1, r2])\n",
    "            cdict['green'].append([item, g1, g2])\n",
    "            cdict['blue'].append([item, b1, b2])\n",
    "    return mcolors.LinearSegmentedColormap('CustomMap', cdict)\n",
    "\n",
    "c = mcolors.ColorConverter().to_rgb\n",
    "rvb = make_colormap(\n",
    "    [c('#FFFF33'), 0.15, c('#FFFF33'),c('#CC0000'), 0.3, \n",
    "     c('#CC0000'),0.4, c('#CC0000'),c('#333399'),0.6,\n",
    "     c('#333399'),0.7,c('#333399'),c('#3399FF'),0.8,\n",
    "     c('#3399FF'),c('#66CCCC'),0.85,c('#66CCCC')])\n",
    "\n",
    "def plot_fig3a(my_output,title,figname):\n",
    "    matplotlib.rcParams.update({\"figure.figsize\": (5,5)})\n",
    "    fig, ax = plt.subplots(1,1)\n",
    "    img = ax.imshow(my_output.T,vmin=0, vmax=1, cmap=rvb,interpolation='none')\n",
    "    #plot x and y label\n",
    "    x_label_list = ['1', '2', '3', '4','5']; y_label_list = ['0.7', '0.9', '1.1', '1.3','1.5']\n",
    "    ax.set_xticks([0,1,2,3,4])\n",
    "    ax.set_xticklabels(x_label_list)\n",
    "    ax.set_yticks([0,1,2,3,4])\n",
    "    ax.set_yticklabels(y_label_list)\n",
    "    ax.set_xlabel('MOI',weight='bold')\n",
    "    ax.set_ylabel('Normalized cell length',weight='bold')\n",
    "    #adjust color bar\n",
    "    divider = make_axes_locatable(ax)\n",
    "    cax = divider.append_axes(\"right\", size=\"5%\", pad=0.05)\n",
    "    fig.colorbar(img,cax=cax)\n",
    "    ax.set_title(title,fontsize=18)\n",
    "    tight_layout()\n",
    "    plt.savefig(figname)\n",
    "    plt.close()\n"
   ]
  },
  {
   "cell_type": "markdown",
   "metadata": {},
   "source": [
    "# 2 Reproduce LZ2010 figures"
   ]
  },
  {
   "cell_type": "markdown",
   "metadata": {},
   "source": [
    "## 2.1 Reproduce Fig 2C"
   ]
  },
  {
   "cell_type": "code",
   "execution_count": 70,
   "metadata": {},
   "outputs": [],
   "source": [
    "N_a = 0; N_s = 0; N_l = 0;  #counts\n",
    "\n",
    "p_a = np.zeros((6,400)); \n",
    "p_s = np.empty((6,),dtype=object)\n",
    "p_l = np.empty((6,),dtype=object)\n",
    "\n",
    "l_all = np.zeros((6,400)) #lengths\n",
    "\n",
    "for m in range(1,6):\n",
    "    l_list = np.random.lognormal(0, 0.28, 400)\n",
    "    l_all[m,:] = l_list\n",
    "    t_s = np.array([])  #outcomes (lysogeny or lysis) for short cells\n",
    "    t_l = np.array([])  #outcomes (lysogeny or lysis) for all cells\n",
    "    t_a = np.array([])  #outcomes (lysogeny or lysis) for long cells\n",
    "    for l in l_list:\n",
    "        tmp = single_cell_decision_simulator(m,l,h,K,1)\n",
    "        t_a = np.append(t_a, tmp)\n",
    "        if l > 1.0:\n",
    "            t_l = np.append(t_l, tmp)\n",
    "            N_l += 1;\n",
    "        else:\n",
    "            t_s = np.append(t_s, tmp)\n",
    "            N_s += 1;\n",
    "    p_a[m,:] = t_a;\n",
    "    p_s[m] = t_s;\n",
    "    p_l[m] = t_l;\n",
    "\n",
    "N_a = N_s + N_l\n",
    "##################fit####################\n",
    "xx = np.array(range(0,6))\n",
    "xxx = np.linspace(0,5,1000)\n",
    "num_resampling = 500;\n",
    "(p_ma, p_ea, h_ma, h_ea, K_ma, K_ea) = bootstrapping_Hill_fit(xx, p_a, num_resampling);\n",
    "(p_ms, p_es, h_ms, h_es, K_ms, K_es) = bootstrapping_Hill_fit_v2(xx, p_s, num_resampling);\n",
    "(p_ml, p_el, h_ml, h_el, K_ml, K_el) = bootstrapping_Hill_fit_v2(xx, p_l, num_resampling);\n",
    "\n",
    "##################plot####################\n",
    "matplotlib.rcParams.update({\"figure.figsize\": (5.5,4.5)})\n",
    "fig, ax = plt.subplots()\n",
    "ax.spines[\"right\"].set_visible(False)\n",
    "ax.spines[\"top\"].set_visible(False)\n",
    "plotStyles={\"markersize\":5,\"markeredgewidth\":1.0,\"linewidth\":2.0}\n",
    "\n",
    "errorbar(xx[1:],p_ms[1:]*100,yerr=p_es[1:]*100,fmt='s',color='tab:green',label='short (N='+str(N_s)+')',**plotStyles)\n",
    "plot(xxx,Hill_equation(xxx,h_ms,K_ms)*100,'-',color='tab:green')\n",
    "text(2,25,'h='+str(round(h_ms,2))+r'$\\pm$'+str(round(h_es,2))+'; K='+str(round(K_ms,2))+r'$\\pm$'+str(round(K_es,2)),color='tab:green')\n",
    "\n",
    "errorbar(xx[1:],p_ma[1:]*100,yerr=p_ea[1:]*100,fmt='s',color='tab:red',label='all (N='+str(N_a)+')',**plotStyles)\n",
    "plot(xxx,Hill_equation(xxx,h_ma,K_ma)*100,'-',color='tab:red')\n",
    "text(2,15,'h='+str(round(h_ma,2))+r'$\\pm$'+str(round(h_ea,2))+'; K='+str(round(K_ma,2))+r'$\\pm$'+str(round(K_ea,2)),color='tab:red')\n",
    "\n",
    "errorbar(xx[1:],p_ml[1:]*100,yerr=p_el[1:]*100,fmt='s',color='tab:blue',label='long (N='+str(N_l)+')',**plotStyles)\n",
    "plot(xxx,Hill_equation(xxx,h_ml,K_ml)*100,'-',color='tab:blue')\n",
    "text(2,5,'h='+str(round(h_ml,2))+r'$\\pm$'+str(round(h_el,2))+'; K='+str(round(K_ml,2))+r'$\\pm$'+str(round(K_el,2)),color='tab:blue')\n",
    "\n",
    "legend(loc='upper left')\n",
    "\n",
    "ylim((-5,119))\n",
    "xlabel('MOI',weight='bold'); ylabel('% Lysogeny',weight='bold')\n",
    "tick_params(axis=\"y\",direction=\"in\")\n",
    "tick_params(axis=\"x\",direction=\"in\")\n",
    "\n",
    "tight_layout()\n",
    "\n",
    "plt.savefig('re_fig2c.png')\n",
    "plt.close()"
   ]
  },
  {
   "cell_type": "code",
   "execution_count": 71,
   "metadata": {},
   "outputs": [
    {
     "data": {
      "text/html": [
       "<table><tr><td><img src='re_fig2c.png' width=400></td><td><img src='fig2c.png' width=450></td></tr></table>"
      ],
      "text/plain": [
       "<IPython.core.display.HTML object>"
      ]
     },
     "metadata": {},
     "output_type": "display_data"
    }
   ],
   "source": [
    "display(HTML(\"<table><tr><td><img src='re_fig2c.png' width=400></td><td><img src='fig2c.png' width=450></td></tr></table>\"))"
   ]
  },
  {
   "cell_type": "markdown",
   "metadata": {},
   "source": [
    "## Distribution for normalized cell length"
   ]
  },
  {
   "cell_type": "code",
   "execution_count": 177,
   "metadata": {},
   "outputs": [
    {
     "data": {
      "image/png": "[encoded data removed]",
      "text/plain": [
       "<Figure size 1080x216 with 5 Axes>"
      ]
     },
     "metadata": {
      "needs_background": "light"
     },
     "output_type": "display_data"
    }
   ],
   "source": [
    "matplotlib.rcParams.update({\"figure.figsize\": (15,3)})\n",
    "for i in range(1,6):\n",
    "    subplot(1,5,i)\n",
    "    hist(l_all[i],density=True)\n",
    "    ylabel('pdf');xlabel('normalized cell length')\n",
    "    title('MOI='+str(i)+'; N=400')\n",
    "#    xscale('log')\n",
    "tight_layout()"
   ]
  },
  {
   "cell_type": "markdown",
   "metadata": {},
   "source": [
    "## 2.2 Reproduce Fig 3A"
   ]
  },
  {
   "cell_type": "code",
   "execution_count": 90,
   "metadata": {},
   "outputs": [],
   "source": [
    "N = 1000;\n",
    "m_list = [1,2,3,4,5]\n",
    "l_list = [0.7, 0.9, 1.1, 1.3,1.5]\n",
    "output1 = np.zeros((len(m_list),len(l_list)))\n",
    "output2 = np.zeros((len(m_list),len(l_list)))\n",
    "for i in range(0,len(m_list)):\n",
    "    for j in range(0,len(l_list)):\n",
    "        tmp1=single_cell_decision_simulator(m_list[i],l_list[j],h,K,N)\n",
    "        tmp2=single_cell_decision_simulator_2(m_list[i],l_list[j],1.0,K,N)\n",
    "        output1[i,j] = np.mean(tmp1)\n",
    "        output2[i,j] = np.mean(tmp2)\n",
    "\n",
    "plot_fig3a(output1,'Individual phage decisions','re_fig3a1.png')\n",
    "plot_fig3a(output2,'Whole cell decision','re_fig3a2.png')\n"
   ]
  },
  {
   "cell_type": "code",
   "execution_count": 91,
   "metadata": {},
   "outputs": [
    {
     "data": {
      "text/html": [
       "<table><tr><td><img src='re_fig3a1.png' width=250></td><td><img src='re_fig3a2.png' width=250></td></tr></table>"
      ],
      "text/plain": [
       "<IPython.core.display.HTML object>"
      ]
     },
     "metadata": {},
     "output_type": "display_data"
    },
    {
     "data": {
      "text/html": [
       "<table><tr><td><img src='fig3a.png' width=500></td><tr></table>"
      ],
      "text/plain": [
       "<IPython.core.display.HTML object>"
      ]
     },
     "metadata": {},
     "output_type": "display_data"
    }
   ],
   "source": [
    "display(HTML(\"<table><tr><td><img src='re_fig3a1.png' width=250></td><td><img src='re_fig3a2.png' width=250></td></tr></table>\"))\n",
    "display(HTML(\"<table><tr><td><img src='fig3a.png' width=500></td><tr></table>\"))"
   ]
  },
  {
   "cell_type": "markdown",
   "metadata": {},
   "source": [
    "## Comment: note that the color map we use is not the same as that in the paper "
   ]
  },
  {
   "cell_type": "markdown",
   "metadata": {},
   "source": [
    "## 2.3 Reproduce Fig 3C (based on simulations in 2.1)"
   ]
  },
  {
   "cell_type": "code",
   "execution_count": 92,
   "metadata": {},
   "outputs": [],
   "source": [
    "colors = ['#330066','#CC3333','#339933','#3399FF','#990066']\n",
    "\n",
    "matplotlib.rcParams.update({\"figure.figsize\": (6,5)})\n",
    "fig, ax = plt.subplots()\n",
    "ax.spines[\"right\"].set_visible(False)\n",
    "ax.spines[\"top\"].set_visible(False)\n",
    "\n",
    "bin_l = [0.6,0.7,0.8,0.9,1.0,1.1,1.2,1.3,1.4,1.5]\n",
    "bin_h = [0.7,0.8,0.9,1.0,1.1,1.2,1.3,1.4,1.5,1.6]\n",
    "\n",
    "x_ = np.array([])\n",
    "y_ = np.array([])\n",
    "\n",
    "num_resampling = 500;\n",
    "for m in range(1,6):\n",
    "    my_l = np.array(l_all[m,:]);\n",
    "    my_p = np.array(p_a[m,:]);\n",
    "    for i in range(0,len(bin_l)):\n",
    "        indices1 = np.where(my_l>=bin_l[i])[0]\n",
    "        indices2 = np.where(my_l<bin_h[i])[0]\n",
    "        indices = list(set(indices1) & set(indices2))\n",
    "        length = np.mean(my_l[indices])\n",
    "        old_prob = my_p[indices]\n",
    "        new_prob = np.zeros(num_resampling)\n",
    "        for k in range(0,num_resampling):\n",
    "            new_prob[k] = np.mean(np.random.choice(old_prob, len(old_prob)))**(1/m)\n",
    "            x_ = np.append(x_, m/length)\n",
    "            y_ = np.append(y_, new_prob[k])\n",
    "        y_m = np.mean(new_prob)\n",
    "        y_e = np.std(new_prob,ddof=1)\n",
    "        errorbar(m/length,y_m*100,yerr=y_e*100,fmt='s',color=colors[m-1])\n",
    "\n",
    "h_list=np.array([]);\n",
    "K_list=np.array([]);\n",
    "for i in range(0,int(len(x_)/500)):\n",
    "    k = i;\n",
    "    index = np.linspace(i,len(x_)+i-500,int(len(x_)/500))\n",
    "    index = np.array(index).astype(int)\n",
    "    popt, pcov = curve_fit(Hill_equation, x_[index], y_[index],p0=[1,1])\n",
    "    h_list = np.append(h_list,popt[0])\n",
    "    K_list = np.append(K_list,popt[1])\n",
    "h_m = np.mean(h_list); h_e = np.std(h_list,ddof=1)\n",
    "K_m = np.mean(K_list); K_e = np.std(K_list,ddof=1)\n",
    "\n",
    "xx = np.linspace(0,8,1000)\n",
    "plot(xx,Hill_equation(xx,h_m,K_m)*100,color='black')\n",
    "\n",
    "xlim((0,8));ylim((0,105))\n",
    "xlabel('Viral concentration (MOI/V)',weight='bold'); ylabel(r'$\\mathbf{(\\% Lysogeny)^{1/MOI}}$',weight='bold')\n",
    "tick_params(axis=\"y\",direction=\"in\")\n",
    "tick_params(axis=\"x\",direction=\"in\")\n",
    "\n",
    "text(3,60,'h='+str(round(h_m,2))+r'$\\pm$'+str(round(h_e,2))+'; K='+str(round(K_m,2))+r'$\\pm$'+str(round(K_e,2)),color='black')\n",
    "plot(5,50,'s',color=colors[0]); text(5.3,48,'MOI=1')\n",
    "plot(5,40,'s',color=colors[1]); text(5.3,38,'MOI=2')\n",
    "plot(5,30,'s',color=colors[2]); text(5.3,28,'MOI=3')\n",
    "plot(5,20,'s',color=colors[3]); text(5.3,18,'MOI=4')\n",
    "plot(5,10,'s',color=colors[4]); text(5.3,8,'MOI=5')\n",
    "tight_layout() \n",
    "\n",
    "plt.savefig('re_fig3c.png')\n",
    "plt.close()"
   ]
  },
  {
   "cell_type": "code",
   "execution_count": 95,
   "metadata": {},
   "outputs": [
    {
     "data": {
      "text/html": [
       "<table><tr><td><img src='re_fig3c.png' width=350></td><td><img src='fig3c.png' width=380></td></tr></table>"
      ],
      "text/plain": [
       "<IPython.core.display.HTML object>"
      ]
     },
     "metadata": {},
     "output_type": "display_data"
    }
   ],
   "source": [
    "display(HTML(\"<table><tr><td><img src='re_fig3c.png' width=350></td><td><img src='fig3c.png' width=380></td></tr></table>\"))"
   ]
  },
  {
   "cell_type": "markdown",
   "metadata": {},
   "source": [
    "## 2.4 Reproduce Fig 3A (based on simulations in 2.1)"
   ]
  },
  {
   "cell_type": "code",
   "execution_count": 97,
   "metadata": {},
   "outputs": [
    {
     "data": {
      "image/png": "[encoded data removed]",
      "text/plain": [
       "<Figure size 360x360 with 2 Axes>"
      ]
     },
     "metadata": {
      "needs_background": "light"
     },
     "output_type": "display_data"
    }
   ],
   "source": [
    "bin_l = [0.6,0.8,1.0,1.2,1.4]\n",
    "bin_h = [0.8,1.0,1.2,1.4,1.6]\n",
    "\n",
    "output = np.zeros((5,len(bin_l)))\n",
    "\n",
    "for m in range(1,6):\n",
    "    my_l = np.array(l_all[m,:]);\n",
    "    my_p = np.array(p_a[m,:]);\n",
    "    for i in range(0,len(bin_l)):\n",
    "        indices1 = np.where(my_l>=bin_l[i])[0]\n",
    "        indices2 = np.where(my_l<bin_h[i])[0]\n",
    "        indices = list(set(indices1) & set(indices2))\n",
    "        output[m-1,i] = np.mean(my_p[indices])\n",
    "\n",
    "matplotlib.rcParams.update({\"figure.figsize\": (5,5)})\n",
    "fig, ax = plt.subplots(1,1)\n",
    "img = ax.imshow(output.T,vmin=0, vmax=1, cmap=rvb,interpolation='none')\n",
    "#plot x and y label\n",
    "x_label_list = ['1', '2', '3', '4','5']; y_label_list = ['0.7', '0.9', '1.1', '1.3','1.5']\n",
    "ax.set_xticks([0,1,2,3,4])\n",
    "ax.set_xticklabels(x_label_list)\n",
    "ax.set_yticks([0,1,2,3,4])\n",
    "ax.set_yticklabels(y_label_list)\n",
    "ax.set_xlabel('MOI',weight='bold')\n",
    "ax.set_ylabel('Normalized cell length',weight='bold')\n",
    "\n",
    "#display values\n",
    "#for (i, j), z in np.ndenumerate(output2.T):\n",
    "#    ax.text(j, i, '{:0.1f}'.format(z), ha='center', va='center')\n",
    "\n",
    "#adjust color bar\n",
    "divider = make_axes_locatable(ax)\n",
    "cax = divider.append_axes(\"right\", size=\"5%\", pad=0.05)\n",
    "fig.colorbar(img,cax=cax)\n",
    "ax.set_title('Individual phage decisions',fontsize=18)\n",
    "tight_layout()\n",
    "\n",
    "plt.savefig('re_fig3a3.png')\n",
    "#plt.close()"
   ]
  }
 ],
 "metadata": {
  "kernelspec": {
   "display_name": "Python 3",
   "language": "python",
   "name": "python3"
  },
  "language_info": {
   "codemirror_mode": {
    "name": "ipython",
    "version": 3
   },
   "file_extension": ".py",
   "mimetype": "text/x-python",
   "name": "python",
   "nbconvert_exporter": "python",
   "pygments_lexer": "ipython3",
   "version": "3.7.3"
  }
 },
 "nbformat": 4,
 "nbformat_minor": 4
}
